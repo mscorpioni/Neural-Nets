{
 "cells": [
  {
   "cell_type": "markdown",
   "id": "bae521fd-f407-4823-a1d2-2d34b1062a60",
   "metadata": {},
   "source": [
    "# MLP (Multi-Layer Perceptron)"
   ]
  },
  {
   "cell_type": "markdown",
   "id": "8450f6df-6278-47de-960b-e980471197aa",
   "metadata": {},
   "source": [
    "## Tensor Flow\n",
    "O TensorFlow é uma camada de infraestrutura para programação diferenciável. Em sua essência, é uma estrutura para manipular matrizes N-dimensionais (tensores), bem como **NumPy**.\n",
    "\n",
    "No entanto, existem três diferenças principais entre o NumPy e o TensorFlow:\n",
    "\n",
    "- O TensorFlow pode aproveitar aceleradores de hardware, como GPUs e TPUs.\n",
    "- O TensorFlow pode calcular automaticamente o gradiente de expressões de tensor diferenciáveis ​​arbitrárias.\n",
    "- A computação do TensorFlow pode ser distribuída para um grande número de dispositivos em uma única máquina e um grande número de máquinas (potencialmente com vários dispositivos cada)."
   ]
  },
  {
   "cell_type": "markdown",
   "id": "169f98d7-a405-4289-bcc3-5d53d3aa2572",
   "metadata": {},
   "source": [
    "## Keras\n",
    "Enquanto o TensorFlow é uma camada de infraestrutura para programação diferenciável, lidando com tensores, variáveis e gradientes, **Keras é uma interface de usuário para aprendizado profundo, lidando com camadas, modelos, otimizadores, funções de perda, métricas e muito mais**.\n",
    "\n",
    "Keras serve como a API de alto nível para TensorFlow: Keras é o que torna o TensorFlow simples e produtivo.\n",
    "\n",
    "A classe **Layer**  é a abstração fundamental em Keras: ela encapsula um estado (pesos) e alguma computação (definida no método de chamada).\n",
    "\n",
    "- Doc: https://keras.io/getting_started/intro_to_keras_for_researchers/"
   ]
  },
  {
   "cell_type": "code",
   "execution_count": 213,
   "id": "4600964c-8b77-4315-a231-e32f8792d742",
   "metadata": {},
   "outputs": [],
   "source": [
    "import numpy as np\n",
    "import pandas as pd\n",
    "import matplotlib.pyplot as plt\n",
    "\n",
    "# Importing Tensor Flow\n",
    "import tensorflow as tf\n",
    "\n",
    "# Importing Keras API\n",
    "from tensorflow import keras\n",
    "\n",
    "from keras.models import Sequential\n",
    "from keras.layers import Input, Flatten, Dense, BatchNormalization, Dropout"
   ]
  },
  {
   "cell_type": "code",
   "execution_count": 214,
   "id": "e9706170-99d1-4dc6-afd0-e88781a3d6a8",
   "metadata": {},
   "outputs": [],
   "source": [
    "# Importing Fashion MNIST dataset from keras\n",
    "# Este dataset vem separado em 2 tuplas: treino e teste\n",
    "(X_train_full, y_train_full), (X_test, y_test) = keras.datasets.fashion_mnist.load_data()"
   ]
  },
  {
   "cell_type": "code",
   "execution_count": 215,
   "id": "9a0bf3bc-b460-46f3-b311-743f31b3cd23",
   "metadata": {},
   "outputs": [
    {
     "data": {
      "text/plain": [
       "((60000, 28, 28), (60000,), (10000, 28, 28), (10000,))"
      ]
     },
     "execution_count": 215,
     "metadata": {},
     "output_type": "execute_result"
    }
   ],
   "source": [
    "# 60mil registros de Treino, 10mil registros de Teste, sendo X com 28 linhas x 28 colunas\n",
    "X_train_full.shape, y_train_full.shape, X_test.shape, y_test.shape"
   ]
  },
  {
   "cell_type": "code",
   "execution_count": 216,
   "id": "a8574152-17a9-4b80-b25b-299228e1f95f",
   "metadata": {},
   "outputs": [],
   "source": [
    "# Dividindo o conjunto de Treinamento em Train/Valid\n",
    "# Valid: primeiros 5mil registros\n",
    "# Train: O restante dos 55mil registros\n",
    "\n",
    "X_valid, X_train = X_train_full[:5000], X_train_full[5000:] # Features\n",
    "y_valid, y_train = y_train_full[:5000], y_train_full[5000:] # Labels"
   ]
  },
  {
   "cell_type": "code",
   "execution_count": 217,
   "id": "44ee0df1-562d-4d00-9a52-63227d445131",
   "metadata": {},
   "outputs": [
    {
     "data": {
      "image/png": "[encoded data removed]",
      "text/plain": [
       "<Figure size 432x288 with 4 Axes>"
      ]
     },
     "metadata": {
      "needs_background": "light"
     },
     "output_type": "display_data"
    }
   ],
   "source": [
    "# Visualizando as imagens do dataset\n",
    "plt.figure()\n",
    "plt.subplot(1,4,1)\n",
    "plt.imshow(X_train[0], cmap=\"binary\")\n",
    "plt.subplot(1,4,2)\n",
    "plt.imshow(X_train[1], cmap=\"binary\")\n",
    "plt.subplot(1,4,3)\n",
    "plt.imshow(X_train[2], cmap=\"binary\")\n",
    "plt.subplot(1,4,4)\n",
    "plt.imshow(X_train[3], cmap=\"binary\")\n",
    "plt.show()"
   ]
  },
  {
   "cell_type": "markdown",
   "id": "52d35ae2-293d-453d-b808-0612f501776c",
   "metadata": {},
   "source": [
    "### Escalonando as Features"
   ]
  },
  {
   "cell_type": "code",
   "execution_count": 218,
   "id": "68b82920-7c2d-4876-a7ec-53bfc3e3e668",
   "metadata": {},
   "outputs": [],
   "source": [
    "# Escalonando as Features (X), pois como utilizamos o SGD, precisamos standarizar os valores \n",
    "# para uma melhor e mais rápida convergência.\n",
    "# Como as cores RGB variam de valores 0 a 255, ao dividirmos por 255 escalamos os valores para o intervalo 0 a 1.\n",
    "# Obs: Ao fazemos isto, já convertemos os valores para 'float', o que é necessário para utilizamos o modelo depois.\n",
    "X_valid = X_valid / 255.0\n",
    "X_train = X_train / 255.0\n",
    "X_test = X_test / 255.0"
   ]
  },
  {
   "cell_type": "code",
   "execution_count": 219,
   "id": "89175aac-e065-41fc-8596-21c5f9827aa3",
   "metadata": {},
   "outputs": [],
   "source": [
    "# Como cada classe é definida por um número, vamos criar uma lista com os nomes das classes\n",
    "class_names = ['T-shirt/top', 'Trouser', 'Pullover', 'Dress', 'Coat', \n",
    "               'Sandal', 'Shirt', 'Sneaker', 'Bag', 'Ankle boot']"
   ]
  },
  {
   "cell_type": "markdown",
   "id": "cb8b0b11-c9ff-4ab6-81b4-0fae67ca8bb1",
   "metadata": {},
   "source": [
    "## Instanciando um modelo MLP\n",
    "\n",
    "Hiperparâmetros Importantes:\n",
    "- Arquitetura da rede\n",
    "- Otimizador\n",
    "- Taxa de aprendizado do Otimizador\n",
    "- Decaimento/Escalonador de taxa de aprendizado\n",
    "- Regularização (tipo, intensidade)\n",
    "\n",
    "**IMPORTANTE:** Seja qual for o tipo de Camada de Entrada (Flatten, Dense, Conv2D), o parâmetro **'input_shape'** sempre deve ser passado nesta Camada!\n",
    "\n",
    "Primeiramente, definimos como será a **Arquitetura da nossa Rede**:\n",
    "- **Tipo e Quantidade de Camadas**\n",
    "- **Quantidade de Neurônios por camada**\n",
    "- **Funções de Ativação**\n",
    "- **Kernel de Inicialização**: https://keras.io/api/layers/initializers/\n",
    "\n",
    "*mlp.Dense(units, activation, use_bias, kernel_initializer, bias_initializer, kernel_regularizer, bias_regularizer, activity_regularizer, ...)*\n",
    "- Doc: https://keras.io/api/layers/\n",
    "\n",
    "Depois, adicionamos alguma **Regularização** para evitar Overfitting:\n",
    "- **Batch Normalization**: Alguns autores defendem que esta camada deve ser inserida antes da função de ativação. No exemplo abaixo, estamos utilizando após. Para adicionarmos antes, devemos retirar a função de ativação da camada (activation='relu'), e adicioná-la depois: layers.Activation('relu'). \n",
    "- **Dropout**: Considere dropout para grandes camadas lineares.\n",
    "- **Regularização**: Utilize regularização L2. kernel_regularizer='l2'"
   ]
  },
  {
   "cell_type": "code",
   "execution_count": 220,
   "id": "fcd6836d-a570-4f71-9763-159a45740e32",
   "metadata": {},
   "outputs": [],
   "source": [
    "# 'Sequential' groups a linear stack of layers into a 'tf.keras.Model'.\n",
    "mlp = Sequential([\n",
    "\n",
    "    # CAMADA DE ENTRADA: \n",
    "    # Neste caso, usamos a camada Flatten pois temos como entrada uma Matriz 2D,\n",
    "    # e assim ela já converte para um Array 1D (flatten=achatada). Caso contrário, teríamos que\n",
    "    # aplicar um reshape(-1,num_features) quando formos treinar o modelo.\n",
    "    \n",
    "    Flatten(input_shape=[28,28]), # Seja qual for o tipo de Camada de Entrada, o parâmetro 'input_shape' sempre deve ser usado.\n",
    "    BatchNormalization(), # Adicionando BatchNormalization após cada camada (inclusive a de Input)\n",
    "    \n",
    "    # Também podemos criar a Camada de Entrada assim: Input(shape=(784,))\n",
    "    # Ou direto na primeira Camada oculta assim: Dense(units=300, activation='relu', input_shape=(784,))\n",
    "    # Mas como temos um Matriz, é mais recomendado utilizar o Flatten() pois fica mais prático para trabalhar depois.\n",
    "\n",
    "    # CAMADAS OCULTAS:\n",
    "    # Geralmente usamos a ativação 'relu' nas camadas ocultas (portanto, inicialização 'He')\n",
    "    Dense(units=300, activation='relu', kernel_initializer='he_normal'),\n",
    "    BatchNormalization(),\n",
    "    Dense(units=100, activation='relu', kernel_initializer='he_normal'),\n",
    "    BatchNormalization(),\n",
    "    \n",
    "    # CAMADA DE SAÍDA:\n",
    "    # No caso de Classificação, n_units = n_classes). \n",
    "    # Geralmente usamos a ativação 'softmax' para > 2 classes. Para binária, sigmoid. Para Regressão, nenhuma ou 'softplus'\n",
    "    Dense(units=10, activation='softmax')\n",
    "])"
   ]
  },
  {
   "cell_type": "markdown",
   "id": "424b6ee7-6fb6-4c6c-ac12-432587e6bb3e",
   "metadata": {},
   "source": [
    "Também podemos instanciar assim, adicionando as camadas com o método add():\n",
    "```python\n",
    "mlp = Sequential()\n",
    "mlp.add(keras.Flatten(input_shape=[28,28])\n",
    "mlp.add(Dense(units=300, activation='relu'))\n",
    "mlp.add(Dense(units=100, activation='relu'))\n",
    "mlp.add(Dense(units=10, activation='softmax'))\n",
    "```"
   ]
  },
  {
   "cell_type": "code",
   "execution_count": 221,
   "id": "ba7720f2-0163-422d-81a4-cabe400a693b",
   "metadata": {},
   "outputs": [
    {
     "name": "stdout",
     "output_type": "stream",
     "text": [
      "Model: \"sequential_15\"\n",
      "_________________________________________________________________\n",
      " Layer (type)                Output Shape              Param #   \n",
      "=================================================================\n",
      " flatten_7 (Flatten)         (None, 784)               0         \n",
      "                                                                 \n",
      " batch_normalization_3 (Batc  (None, 784)              3136      \n",
      " hNormalization)                                                 \n",
      "                                                                 \n",
      " dense_45 (Dense)            (None, 300)               235500    \n",
      "                                                                 \n",
      " batch_normalization_4 (Batc  (None, 300)              1200      \n",
      " hNormalization)                                                 \n",
      "                                                                 \n",
      " dense_46 (Dense)            (None, 100)               30100     \n",
      "                                                                 \n",
      " batch_normalization_5 (Batc  (None, 100)              400       \n",
      " hNormalization)                                                 \n",
      "                                                                 \n",
      " dense_47 (Dense)            (None, 10)                1010      \n",
      "                                                                 \n",
      "=================================================================\n",
      "Total params: 271,346\n",
      "Trainable params: 268,978\n",
      "Non-trainable params: 2,368\n",
      "_________________________________________________________________\n"
     ]
    }
   ],
   "source": [
    "# O método summary() exibe informações das camadas do modelo\n",
    "mlp.summary()"
   ]
  },
  {
   "cell_type": "code",
   "execution_count": 222,
   "id": "b905cdd5-f630-44dc-8ff7-dbd1bf03417b",
   "metadata": {},
   "outputs": [
    {
     "data": {
      "image/png": "[encoded data removed]",
      "text/plain": [
       "<IPython.core.display.Image object>"
      ]
     },
     "execution_count": 222,
     "metadata": {},
     "output_type": "execute_result"
    }
   ],
   "source": [
    "# Podemos também Plotar o modelo:\n",
    "keras.utils.plot_model(mlp, show_shapes=True)"
   ]
  },
  {
   "cell_type": "markdown",
   "id": "1bf12df6-a977-4873-a352-b764d13910ed",
   "metadata": {},
   "source": [
    "## Compilando o Modelo\n",
    "É aqui que escolho os hiperparâmetros como:\n",
    "- **Otimizador**: Adam, SGD, etc.\n",
    "- **Função de Custo (Loss)**: sparse_categorical_crossentropy, binary_crossentropy, mse, etc.\n",
    "- **Métricas de avaliação**: passamos este param como uma lista, pois podemos passar mais de uma métrica de avaliação. Ex: metrics=['accuracy', 'precision']\n",
    "\n",
    "*mlp.compile(optimizer, loss, metrics)*"
   ]
  },
  {
   "cell_type": "code",
   "execution_count": 223,
   "id": "8102d752-128c-44b6-8f00-8758fc72f496",
   "metadata": {},
   "outputs": [
    {
     "name": "stdout",
     "output_type": "stream",
     "text": [
      "Formato dos labels: [0 1 2 3 4 5 6 7 8 9]\n"
     ]
    }
   ],
   "source": [
    "# Podemos instanciar um Otimizador para podermos ajustar seus parâmetros. \n",
    "# Ex: otimizador = keras.optimizers.Adam(learning_rate, beta_1, beta_2)\n",
    "# Beta 1: momentum (“fricção”) e Beta 2: decaimento (geralmente funcionam bem assim, \n",
    "# não é necessário ajustar estes hiperparâmetros).\n",
    "# Caso eu queira usar a configuração default, basta inserirmos direto no compile(optimizer='adam').\n",
    "\n",
    "print('Formato dos labels:', np.unique(y_train))\n",
    "\n",
    "mlp.compile(loss='sparse_categorical_crossentropy', optimizer='adam', metrics=['accuracy'])"
   ]
  },
  {
   "cell_type": "markdown",
   "id": "0f81953e-69ac-4cf4-8bca-4c002b45e524",
   "metadata": {},
   "source": [
    "Quando usar 'categorical_crossentropy' e 'sparse_categorical_crossentropy'?\n",
    "- *categorical_crossentropy*: quando a lista de labels estiver no formato **one-hot**: [0,1,0,0,0], [0,0,0,0,1]\n",
    "- *sparse_categorical_crossentropy*: quando a lista de labels estiver no formato de **números inteiros**: [1], [5]"
   ]
  },
  {
   "cell_type": "markdown",
   "id": "c4d4d9cf-bd58-49d9-8ec9-6511ecaaa458",
   "metadata": {},
   "source": [
    "## Treinando o Modelo\n",
    "Nesta fase que definimos outros hiperparâmetros:\n",
    "- **Batch**: o default é 32\n",
    "- **Épocas**\n",
    "- **Early Stopping**: Para o treinamento quando uma métrica especificada pára de melhorar. Definimos o param 'patience' para estipular após quantas Épocas sem melhora da métrica deve parar. Por padrão, a métrica monitorada é o 'val_loss', uma vez que estamos interessados em minimizar esta função de custo, que é baseada no conjunto de validação. Dica: Ao usarmos um critério Early Stopping, podemos definir um número alto para Épocas, uma vez que o processo provavelmente será parado antes da conclusão de todas.\n",
    "- **Checking Points:**: Ao treinar um modelo, pode demorar muito tempo e pode ocorrer algum erro durante o treinamento (hardware ou software). Portanto, recomenda-se salvar alguns pontos de verificação durante o processo de treinamento. Para isto, também utilizamos o parâmetro *'callbacks'* dentro do fit(): *callbacks=[keras.callbacks.ModelCheckpoint('nome_arquivo.h5', save_best_only=True)]*.  \n",
    "- **Conjunto de Avaliação**: temos 2 formas de fazer:\n",
    "1) Passamos qual conjunto queremos fazer a avaliação do modelo, no caso o conjunto de Validação: *validation_data=(X_valid, y_valid)*. \n",
    "2) Ou podemos fazer de forma automática, informando apenas o param *'validation_split=0.1'*, o qual informa que queremos utilizar um percentual (neste caso 10%) do conjunto de treinamento para fazermos a validação. Desta forma, não precisamos dividir o conjunto de treinamento em train/valid, que fizemos acima.\n",
    "\n",
    "*mlp.fit(X_train, y_train, epochs, batch_size, validation_data)*\n",
    "\n",
    "**Importante**: Se não estivermos satisfeitos e chamarmos novamente o fit(), o Keras continua o treinamento de onde parou. "
   ]
  },
  {
   "cell_type": "code",
   "execution_count": 224,
   "id": "095495e0-e9f4-498e-817d-a27e8dc69ca2",
   "metadata": {},
   "outputs": [
    {
     "name": "stdout",
     "output_type": "stream",
     "text": [
      "Epoch 1/30\n",
      "1719/1719 [==============================] - 11s 6ms/step - loss: 0.4774 - accuracy: 0.8277 - val_loss: 0.3714 - val_accuracy: 0.8660\n",
      "Epoch 2/30\n",
      "1719/1719 [==============================] - 9s 5ms/step - loss: 0.3660 - accuracy: 0.8653 - val_loss: 0.3336 - val_accuracy: 0.8774\n",
      "Epoch 3/30\n",
      "1719/1719 [==============================] - 9s 5ms/step - loss: 0.3263 - accuracy: 0.8790 - val_loss: 0.3136 - val_accuracy: 0.8842\n",
      "Epoch 4/30\n",
      "1719/1719 [==============================] - 9s 6ms/step - loss: 0.3021 - accuracy: 0.8874 - val_loss: 0.2981 - val_accuracy: 0.8954\n",
      "Epoch 5/30\n",
      "1719/1719 [==============================] - 9s 5ms/step - loss: 0.2808 - accuracy: 0.8949 - val_loss: 0.2943 - val_accuracy: 0.8946\n",
      "Epoch 6/30\n",
      "1719/1719 [==============================] - 10s 6ms/step - loss: 0.2647 - accuracy: 0.8997 - val_loss: 0.3155 - val_accuracy: 0.8886\n",
      "Epoch 7/30\n",
      "1719/1719 [==============================] - 9s 5ms/step - loss: 0.2501 - accuracy: 0.9059 - val_loss: 0.3004 - val_accuracy: 0.9000\n",
      "Epoch 8/30\n",
      "1719/1719 [==============================] - 9s 5ms/step - loss: 0.2399 - accuracy: 0.9102 - val_loss: 0.2936 - val_accuracy: 0.8914\n",
      "Epoch 9/30\n",
      "1719/1719 [==============================] - 10s 6ms/step - loss: 0.2260 - accuracy: 0.9159 - val_loss: 0.3053 - val_accuracy: 0.8874\n",
      "Epoch 10/30\n",
      "1719/1719 [==============================] - 9s 5ms/step - loss: 0.2162 - accuracy: 0.9198 - val_loss: 0.2913 - val_accuracy: 0.8984\n",
      "Epoch 11/30\n",
      "1719/1719 [==============================] - 10s 6ms/step - loss: 0.2072 - accuracy: 0.9227 - val_loss: 0.3188 - val_accuracy: 0.8860\n",
      "Epoch 12/30\n",
      "1719/1719 [==============================] - 9s 6ms/step - loss: 0.1984 - accuracy: 0.9258 - val_loss: 0.3084 - val_accuracy: 0.8936\n",
      "Epoch 13/30\n",
      "1719/1719 [==============================] - 9s 5ms/step - loss: 0.1891 - accuracy: 0.9287 - val_loss: 0.3115 - val_accuracy: 0.8968\n",
      "Epoch 14/30\n",
      "1719/1719 [==============================] - 9s 5ms/step - loss: 0.1847 - accuracy: 0.9294 - val_loss: 0.3096 - val_accuracy: 0.8970\n",
      "Epoch 15/30\n",
      "1719/1719 [==============================] - 9s 5ms/step - loss: 0.1772 - accuracy: 0.9331 - val_loss: 0.3116 - val_accuracy: 0.8990\n"
     ]
    },
    {
     "data": {
      "text/plain": [
       "<keras.callbacks.History at 0x28754de6460>"
      ]
     },
     "execution_count": 224,
     "metadata": {},
     "output_type": "execute_result"
    }
   ],
   "source": [
    "# Obs: Como instanciamos a Camada de Input como Flatten(), não precisamos fazer um reshape() em X, \n",
    "# pois elas está como Array 2D (e precisaríamos passar como Array 1D). \n",
    "# O Flatten() faz a conversão de forma automática\n",
    "# Ex: mlp.fit(X_train.reshape(-1,784), y_train, epochs=30, validation_data=(X_valid.reshape(-1,784), y_valid))\n",
    "\n",
    "mlp.fit(X_train, y_train, epochs=30, validation_data=(X_valid, y_valid), \n",
    "        callbacks=[keras.callbacks.EarlyStopping(patience=5), \n",
    "                   keras.callbacks.ModelCheckpoint('checkpoint_model.h5', save_best_only=True)])"
   ]
  },
  {
   "cell_type": "markdown",
   "id": "c238bddb-7083-45b5-80e0-a2e07f4052a9",
   "metadata": {},
   "source": [
    "Podemos verificar os **Pesos** e **Bias** de cada camada"
   ]
  },
  {
   "cell_type": "code",
   "execution_count": 225,
   "id": "177eecea-1ca3-4046-8dbb-8d2efde18c8f",
   "metadata": {},
   "outputs": [
    {
     "name": "stdout",
     "output_type": "stream",
     "text": [
      "Pesos recebidos pelo 1o Neurônio da 1a Camada: \n",
      " [ 0.46269274  0.18864867  0.22279608  0.43522474  0.01812737 -0.03583284\n",
      "  0.05904583  0.17076142  0.19620983  0.04592984  0.5238599   0.16565773\n",
      "  0.14051694  0.13347392  0.15158802  0.1722192   0.247465    0.23916987\n",
      "  0.46130267  0.16849662  0.33831578  0.08170541  0.11265042  0.23091294\n",
      "  0.07670706  0.02647334 -0.00818274  0.21517126  0.29314867  0.00924617\n",
      "  0.22844772  0.12216821  0.25313607  0.20539548  0.23246329  0.2687872\n",
      "  0.25608045  0.2116009   0.15813027  0.11537466  0.28100383  0.05983364\n",
      "  0.22051358  0.24790801  0.18862876  0.28727776  0.3103517  -0.09181594\n",
      "  0.28391254  0.17430566 -0.02015531  0.17473039  0.02501999  0.3842374\n",
      "  0.05052863  0.17691489 -0.00660693  0.41356996  0.19616048  0.16820256\n",
      "  0.28603044  0.18859373  0.0551189   0.22166632  0.40870324  0.33880627\n",
      "  0.09134796  0.35031533  0.28329182  0.47821394  0.2530803   0.17919919\n",
      " -0.00651759  0.31940964  0.02024687  0.28312042  0.07643892  0.32320756\n",
      " -0.05608134  0.21454118  0.21002428  0.11774556  0.28520358  0.15906361\n",
      "  0.13125612 -0.07214057  0.3133149   0.33677703  0.2674373   0.42287585\n",
      "  0.5584348   0.26101702  0.06707185  0.23676352  0.11761129  0.50256914\n",
      "  0.14271289  0.10747317  0.41829506  0.3528096   0.31330094  0.19179177\n",
      "  0.29105753  0.20969789  0.34117407  0.5444519   0.1854159   0.3013868\n",
      "  0.18044037  0.12268264  0.10082505  0.22004524  0.39403343  0.31057316\n",
      "  0.08445143  0.12110871  0.35668427  0.03792785  0.30398795  0.1307913\n",
      "  0.14485069  0.00456517  0.17516205  0.41013452  0.38506684  0.15843993\n",
      "  0.326164   -0.02124549  0.14987484  0.09164918  0.20651692  0.31387722\n",
      "  0.10092041  0.4147054   0.13742638  0.3954136   0.34596306  0.31844008\n",
      "  0.60899615  0.1844645   0.39811352  0.3624931   0.4413387   0.26122072\n",
      "  0.32480228  0.26585123  0.13051918 -0.07655756  0.34807685  0.17837638\n",
      "  0.23210722  0.35020724  0.2618405   0.0277523   0.17738396  0.23353808\n",
      "  0.11829213  0.04258924  0.5959722   0.14716248  0.13350493  0.2303186\n",
      "  0.5182083   0.4736278   0.2124955   0.27969384  0.32905588  0.11726434\n",
      "  0.1867205   0.2689044   0.441498    0.17054963  0.25296897  0.12910819\n",
      "  0.06035182  0.24899036  0.23211454  0.40468723  0.1117744   0.32317844\n",
      "  0.19834912  0.19808325  0.36829686  0.23802747  0.42536843  0.32143313\n",
      "  0.11273513  0.3477159   0.13608281  0.01953945  0.16355743  0.3990376\n",
      "  0.13850635  0.30348554  0.11425053  0.21235807  0.16809356  0.11027586\n",
      "  0.21612602  0.37371206  0.16232988  0.09682646 -0.09483477  0.34105206\n",
      "  0.03933775  0.28905174  0.38811108  0.38842356  0.3568973   0.1462582\n",
      " -0.02492758  0.18746513  0.12196285  0.07635718  0.19824049 -0.04398223\n",
      "  0.27082038  0.178113    0.24529791  0.25247693  0.20543525  0.22406182\n",
      "  0.0894254   0.2819747   0.30618387  0.06275411  0.17166881 -0.01343265\n",
      "  0.09438945  0.09911269  0.40742958  0.21834165  0.12553248  0.24494073\n",
      "  0.02380843  0.02226118  0.12403531  0.2703202   0.3007443   0.5295748\n",
      "  0.3889534   0.21319681  0.45262766  0.41450915  0.0549214   0.25571993\n",
      "  0.25576097  0.22642201  0.22230004  0.28526422  0.40640333  0.23813598\n",
      "  0.2681746   0.17529334  0.3945734   0.19293715 -0.02969327  0.1417737\n",
      "  0.11224082  0.36385837  0.16144486  0.1197202   0.33469757  0.2947803\n",
      "  0.13558765  0.25495884  0.21389323  0.32787722  0.0218262   0.4296995\n",
      "  0.39580214  0.20892285  0.15411355  0.06783611  0.3471491   0.17727897\n",
      "  0.09770032  0.04388723  0.34492493  0.411386    0.44607168  0.32897195\n",
      "  0.13922575  0.1622963   0.22843887  0.13861878  0.3225553   0.40225142\n",
      "  0.30553663  0.16374741  0.08748925  0.4790494   0.28106046  0.07915563\n",
      "  0.08472869  0.1793505   0.27077588  0.14409249  0.16431141  0.06289347]\n",
      "\n",
      "Pesos do Bias da 1a Camada: \n",
      " [-0.34887904 -0.11708792 -0.22951046 -0.32148272 -0.01887243  0.0390641\n",
      " -0.12612128 -0.12700237 -0.17474076 -0.0091438  -0.3393063  -0.09215666\n",
      " -0.10364686 -0.11540453 -0.15665731 -0.11950187 -0.16960362 -0.15187298\n",
      " -0.34908807 -0.10318154 -0.28314027 -0.03899139 -0.07257157 -0.14521174\n",
      " -0.00910744 -0.02649683 -0.09169304 -0.19398479 -0.27491847 -0.03010136\n",
      " -0.2860275  -0.12448462 -0.1105694  -0.20833507 -0.30144978 -0.10845383\n",
      " -0.17814408 -0.21345061 -0.14016043 -0.18266493 -0.16303442 -0.04930285\n",
      " -0.15275975 -0.23778236 -0.28066346 -0.20940015 -0.23605904  0.06768773\n",
      " -0.34578803 -0.18762727  0.02547391 -0.09459305 -0.05597619 -0.38611844\n",
      " -0.1307973  -0.10860852 -0.00987329 -0.27758706 -0.20414773 -0.17842902\n",
      " -0.09582087 -0.19831738 -0.05666925 -0.22072925 -0.33251897 -0.25647774\n",
      " -0.16820507 -0.25859958 -0.23186405 -0.33811766 -0.11542345 -0.24296816\n",
      " -0.00888038 -0.17876555  0.00247316 -0.3168135   0.04379101 -0.16335216\n",
      "  0.03456061 -0.22732577 -0.05148031 -0.10947698 -0.2968892  -0.09057967\n",
      " -0.0818186   0.02372721 -0.22556986 -0.3465313  -0.23808758 -0.33751455\n",
      " -0.43229195 -0.297179   -0.10571918 -0.10360929 -0.13235888 -0.3436089\n",
      " -0.11102263 -0.0596831  -0.3755555  -0.25246757 -0.27035573 -0.09096722\n",
      " -0.15135756 -0.20257725 -0.24314383 -0.37629765 -0.14204118 -0.2640593\n",
      " -0.19972697 -0.16579135 -0.01896336 -0.16132943 -0.2528734  -0.18177779\n",
      " -0.12611571 -0.05000877 -0.23804279  0.01242551 -0.24905686 -0.13105702\n",
      " -0.10950872 -0.02542613 -0.17626688 -0.28581703 -0.33653688 -0.15147722\n",
      " -0.16108513 -0.03543696 -0.08973973 -0.15125263 -0.20105495 -0.29505914\n",
      " -0.09172291 -0.34117344 -0.14266117 -0.27914393 -0.24463737 -0.28395846\n",
      " -0.5010055  -0.10285832 -0.34905815 -0.31843138 -0.3587771  -0.18658336\n",
      " -0.28502753 -0.20391683 -0.03675899 -0.03133301 -0.2638024  -0.18983778\n",
      " -0.12318728 -0.31891087 -0.22311427 -0.00809309 -0.14484464 -0.21205522\n",
      " -0.04083544 -0.07389124 -0.56247073 -0.06834695 -0.0865384  -0.18777393\n",
      " -0.35432607 -0.26528397 -0.18103036 -0.20648931 -0.34824035 -0.07250579\n",
      " -0.18835765 -0.23106742 -0.34159708 -0.15007763 -0.22850223 -0.25125846\n",
      " -0.07969115 -0.20164385 -0.12267949 -0.30497065 -0.08104635 -0.18200664\n",
      " -0.1826444  -0.20407555 -0.33000216 -0.2425934  -0.30001736 -0.2704822\n",
      " -0.18129714 -0.27830654 -0.05853689 -0.04423675 -0.21345283 -0.35741434\n",
      " -0.2017262  -0.20336288 -0.16742699 -0.3192782  -0.08848571 -0.06580729\n",
      " -0.09806758 -0.19676663 -0.07826255 -0.15140702  0.03211191 -0.26554334\n",
      "  0.01624782 -0.19745928 -0.3178404  -0.28367302 -0.40320867 -0.14784007\n",
      " -0.01258768 -0.15003787 -0.11824259 -0.06158924 -0.10578722  0.00089047\n",
      " -0.2706572  -0.21752857 -0.08750905 -0.17770453 -0.22494687 -0.21445782\n",
      " -0.07935501 -0.14345178 -0.24336576 -0.11467985 -0.15552449 -0.09356115\n",
      " -0.10708423 -0.07729936 -0.24623193 -0.35016465 -0.09650102 -0.12469657\n",
      " -0.04708365 -0.06112477 -0.20956555 -0.16753554 -0.35547337 -0.43381977\n",
      " -0.30765364 -0.20512803 -0.31442294 -0.38218647 -0.10555042 -0.19137026\n",
      " -0.17498335 -0.17204228 -0.1762814  -0.20367865 -0.34100753 -0.11725619\n",
      " -0.18398218 -0.16791283 -0.37396088 -0.15414853 -0.0229152  -0.17320089\n",
      " -0.04789882 -0.37016454 -0.1987934  -0.14928724 -0.24904211 -0.23543306\n",
      " -0.05949619 -0.28592035 -0.25115776 -0.24690193 -0.06786795 -0.34174323\n",
      " -0.3003632  -0.15571871 -0.1138207   0.00801392 -0.30461752 -0.18958236\n",
      " -0.03777154 -0.05216118 -0.21106488 -0.25625315 -0.47166657 -0.18293722\n",
      " -0.05367969 -0.15916632 -0.15089345 -0.04824388 -0.22240426 -0.29510832\n",
      " -0.20400567 -0.11907677 -0.14713138 -0.33824313 -0.29083136 -0.10237426\n",
      " -0.11524749 -0.0775692  -0.22539897 -0.13804066 -0.19744003 -0.05929507]\n"
     ]
    }
   ],
   "source": [
    "# Visualizando os pesos da Primeira camada: layers[2] neste caso, pois criamos uma camada Flatten anterior e um BatchNorm\n",
    "# O método get_weights() tem 2 índices: [0] são os pesos dos neurônios e [1] são os pesos dos bias\n",
    "\n",
    "print('Pesos recebidos pelo 1o Neurônio da 1a Camada: \\n', mlp.layers[2].get_weights()[0][1])\n",
    "print('\\nPesos do Bias da 1a Camada: \\n', mlp.layers[2].get_weights()[1])"
   ]
  },
  {
   "cell_type": "markdown",
   "id": "c499abe4-7475-4815-9007-c05e18971969",
   "metadata": {},
   "source": [
    "## Avaliando o Modelo\n",
    "Ao treinarmos o modelo, ele retorna um objeto **'History'**, contendo várias informações. Uma das mais importantes é o **'history.history'** que contém as métricas calculadas a cada Época (tanto no conjunto de treinamento, como no de validação).\n",
    "\n",
    "O parâmetro 'history.history' retorna os valores de:\n",
    "- loss: Loss do conjunto de Treinamento\n",
    "- accuracy: Acurácia (ou a métrica estipulada antes) do conjunto de Treinamento\n",
    "- val_loss: Loss do conjunto de Validação\n",
    "- val_accuracy: Loss do conjunto de Validação\n",
    "**Importante**: observar a queda do **'val_loss'**, pois quando fica estável ou sobe, quer dizer que nosso algortimo já convergiu (e se após as Épocas estipuladas ainda apresenta declive, quer dizer que ainda não convergiu). E também observar a **'accuracy'** que é referente ao conjunto de treinamento, pois se ela estiver aumentando e a 'val_accuray' não mais, quer dizer que nosso modelo está overfitando."
   ]
  },
  {
   "cell_type": "code",
   "execution_count": 226,
   "id": "1ff7f99a-4fac-4b35-b966-610e518bcb36",
   "metadata": {},
   "outputs": [
    {
     "data": {
      "image/png": "[encoded data removed]",
      "text/plain": [
       "<Figure size 576x360 with 1 Axes>"
      ]
     },
     "metadata": {
      "needs_background": "light"
     },
     "output_type": "display_data"
    }
   ],
   "source": [
    "# Podemos plotar essas informações\n",
    "pd.DataFrame(mlp.history.history).plot(figsize=(8,5))\n",
    "plt.grid(True)\n",
    "plt.gca().set_ylim(0,1)\n",
    "plt.show()"
   ]
  },
  {
   "cell_type": "code",
   "execution_count": 227,
   "id": "5da03da4-6724-4fd1-b323-d00fd3785911",
   "metadata": {},
   "outputs": [
    {
     "name": "stdout",
     "output_type": "stream",
     "text": [
      "313/313 [==============================] - 1s 2ms/step - loss: 0.3367 - accuracy: 0.8910\n"
     ]
    },
    {
     "data": {
      "text/plain": [
       "[0.3366531431674957, 0.890999972820282]"
      ]
     },
     "execution_count": 227,
     "metadata": {},
     "output_type": "execute_result"
    }
   ],
   "source": [
    "# Retorna o Loss e a Métrica (acurácia, neste caso).\n",
    "# Aqui estamos testando o modelo utilizando o Conjunto de Teste\n",
    "mlp.evaluate(X_test, y_test)"
   ]
  },
  {
   "cell_type": "markdown",
   "id": "5aa6afdc-76f0-4e12-bf1f-3bd11c08df88",
   "metadata": {},
   "source": [
    "## Predições\n",
    "Como utilizamos a Função de Ativação **'SoftMax'** na Camada de Output, teremos uma **distribuição de probabilidades** das classes ao predizermos a classificação de novas instâncias.  "
   ]
  },
  {
   "cell_type": "code",
   "execution_count": 228,
   "id": "2b8e0ac0-f6f4-40f7-9a37-3aaf65834527",
   "metadata": {},
   "outputs": [
    {
     "data": {
      "text/plain": [
       "array([[0.  , 0.  , 0.  , 0.  , 0.  , 0.  , 0.  , 0.  , 0.  , 1.  ],\n",
       "       [0.  , 0.  , 1.  , 0.  , 0.  , 0.  , 0.  , 0.  , 0.  , 0.  ],\n",
       "       [0.  , 1.  , 0.  , 0.  , 0.  , 0.  , 0.  , 0.  , 0.  , 0.  ],\n",
       "       [0.  , 1.  , 0.  , 0.  , 0.  , 0.  , 0.  , 0.  , 0.  , 0.  ],\n",
       "       [0.09, 0.  , 0.  , 0.  , 0.  , 0.  , 0.91, 0.  , 0.  , 0.  ]],\n",
       "      dtype=float32)"
      ]
     },
     "execution_count": 228,
     "metadata": {},
     "output_type": "execute_result"
    }
   ],
   "source": [
    "# Definindo 5 instâncias para teste\n",
    "X_new = X_test[:5]\n",
    "y_pred_proba = mlp.predict(X_new)\n",
    "y_pred_proba.round(2)"
   ]
  },
  {
   "cell_type": "markdown",
   "id": "ae9cd891-424e-435f-8fc7-72198a34943b",
   "metadata": {},
   "source": [
    "## Salvando/Carregando uma Rede Neural treinada\n",
    "Desta forma, precisamos apenas carregar a rede, e não precisamos treiná-la toda vez que formos fazer uma predição. "
   ]
  },
  {
   "cell_type": "code",
   "execution_count": 229,
   "id": "23f4d936-6ac0-4900-9de1-081b3b00a24f",
   "metadata": {},
   "outputs": [],
   "source": [
    "# Para salvar, basta utilizar a função save()\n",
    "# No caso deste exemplo, nós já temos um modelo salvo pelo callback de CheckPoint que criamos ao treinarmos.\n",
    "mlp.save('mlp_model.h5')"
   ]
  },
  {
   "cell_type": "code",
   "execution_count": 230,
   "id": "693bc714-a138-4777-8536-7e4421020b0f",
   "metadata": {},
   "outputs": [
    {
     "name": "stdout",
     "output_type": "stream",
     "text": [
      "313/313 [==============================] - 1s 2ms/step - loss: 0.3275 - accuracy: 0.8912\n"
     ]
    },
    {
     "data": {
      "text/plain": [
       "[0.32754096388816833, 0.8912000060081482]"
      ]
     },
     "execution_count": 230,
     "metadata": {},
     "output_type": "execute_result"
    }
   ],
   "source": [
    "# Para Carregar, a função models.load_model()\n",
    "modelo_carregado = keras.models.load_model('checkpoint_model.h5')\n",
    "\n",
    "modelo_carregado.evaluate(X_test, y_test)"
   ]
  }
 ],
 "metadata": {
  "kernelspec": {
   "display_name": "Python 3",
   "language": "python",
   "name": "python3"
  },
  "language_info": {
   "codemirror_mode": {
    "name": "ipython",
    "version": 3
   },
   "file_extension": ".py",
   "mimetype": "text/x-python",
   "name": "python",
   "nbconvert_exporter": "python",
   "pygments_lexer": "ipython3",
   "version": "3.8.8"
  }
 },
 "nbformat": 4,
 "nbformat_minor": 5
}
